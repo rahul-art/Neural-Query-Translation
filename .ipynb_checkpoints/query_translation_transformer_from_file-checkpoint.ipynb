{
 "cells": [
  {
   "cell_type": "code",
   "execution_count": 1,
   "metadata": {
    "collapsed": true
   },
   "outputs": [],
   "source": [
    "import argparse\n",
    "import time\n",
    "import torch\n",
    "from Models import get_model\n",
    "from Process import *\n",
    "import torch.nn.functional as F\n",
    "from Optim import CosineWithRestarts\n",
    "from Batch import create_masks\n",
    "import pdb\n",
    "import dill as pickle\n",
    "import argparse\n",
    "from Models import get_model\n",
    "from Beam import beam_search\n",
    "from nltk.corpus import wordnet\n",
    "from torch.autograd import Variable\n",
    "import re\n"
   ]
  },
  {
   "cell_type": "code",
   "execution_count": 2,
   "metadata": {
    "collapsed": false
   },
   "outputs": [
    {
     "name": "stdout",
     "output_type": "stream",
     "text": [
      "env: CUDA_DEVICE_ORDER=PCI_BUS_ID\n",
      "env: CUDA_VISIBLE_DEVICES=1\n"
     ]
    }
   ],
   "source": [
    "%env CUDA_DEVICE_ORDER=PCI_BUS_ID\n",
    "%env CUDA_VISIBLE_DEVICES=1\n"
   ]
  },
  {
   "cell_type": "code",
   "execution_count": 9,
   "metadata": {
    "collapsed": true,
    "scrolled": true
   },
   "outputs": [],
   "source": [
    "parser = argparse.ArgumentParser()\n",
    "parser.add_argument('-load_weights', type=str, default='clir_it_en')\n",
    "parser.add_argument('-k', type=int, default=3)\n",
    "parser.add_argument('-max_len', type=int, default=80)\n",
    "parser.add_argument('-d_model', type=int, default=512)\n",
    "parser.add_argument('-n_layers', type=int, default=6)\n",
    "parser.add_argument('-src_lang', type=str, default='it')\n",
    "parser.add_argument('-trg_lang', type=str, default='en')\n",
    "parser.add_argument('-heads', type=int, default=8)\n",
    "parser.add_argument('-dropout', type=int, default=0.1)\n",
    "parser.add_argument('-no_cuda', action='store_true')\n",
    "parser.add_argument('-floyd', action='store_true')\n",
    "#-load_weights clir_it_en -src_lang it -trg_lang en -k 2\n",
    "#opt = parser.parse_args()\n",
    "opt = parser.parse_args(args=[])\n",
    "opt.device = 0 if opt.no_cuda is False else -1\n",
    " \n",
    "assert opt.k > 0\n",
    "assert opt.max_len > 10"
   ]
  },
  {
   "cell_type": "code",
   "execution_count": 10,
   "metadata": {
    "collapsed": false
   },
   "outputs": [
    {
     "name": "stdout",
     "output_type": "stream",
     "text": [
      "Namespace(d_model=512, device=0, dropout=0.1, floyd=False, heads=8, k=3, load_weights='clir_it_en', max_len=80, n_layers=6, no_cuda=False, src_lang='it', trg_lang='en')\n",
      "loading spacy tokenizers...\n",
      "loading presaved fields...\n",
      "loading pretrained weights...\n"
     ]
    }
   ],
   "source": [
    "print(opt)\n",
    "SRC, TRG = create_fields(opt)\n",
    "model = get_model(opt, len(SRC.vocab), len(TRG.vocab))"
   ]
  },
  {
   "cell_type": "code",
   "execution_count": null,
   "metadata": {
    "collapsed": true
   },
   "outputs": [],
   "source": [
    "def get_synonym(word, SRC):\n",
    "    syns = wordnet.synsets(word)\n",
    "    for s in syns:\n",
    "        for l in s.lemmas():\n",
    "            if SRC.vocab.stoi[l.name()] != 0:\n",
    "                return SRC.vocab.stoi[l.name()]\n",
    "            \n",
    "    return 0\n",
    "\n",
    "def multiple_replace(dict, text):\n",
    "  # Create a regular expression  from the dictionary keys\n",
    "  regex = re.compile(\"(%s)\" % \"|\".join(map(re.escape, dict.keys())))\n",
    "\n",
    "  # For each match, look-up corresponding value in dictionary\n",
    "  return regex.sub(lambda mo: dict[mo.string[mo.start():mo.end()]], text) \n",
    "\n",
    "def translate_sentence(sentence, model, opt, SRC, TRG):\n",
    "    \n",
    "    model.eval()\n",
    "    indexed = []\n",
    "    sentence = SRC.preprocess(sentence)\n",
    "    for tok in sentence:\n",
    "        if SRC.vocab.stoi[tok] != 0 or opt.floyd == True:\n",
    "            indexed.append(SRC.vocab.stoi[tok])\n",
    "        else:\n",
    "            indexed.append(get_synonym(tok, SRC))\n",
    "    sentence = Variable(torch.LongTensor([indexed]))\n",
    "    if opt.device == 0:\n",
    "        sentence = sentence.cuda()\n",
    "    \n",
    "    sentence = beam_search(sentence, model, SRC, TRG, opt)\n",
    "    \n",
    "    translation_list = []  \n",
    "    for s in sentence:\n",
    "        translation_list.append(multiple_replace({' ?' : '?',' !':'!',' .':'.','\\' ':'\\'',' ,':','}, s))\n",
    "           \n",
    "    return translation_list\n",
    "    #return  multiple_replace({' ?' : '?',' !':'!',' .':'.','\\' ':'\\'',' ,':','}, sentence)\n",
    "\n",
    "def translate(opt, model, SRC, TRG):\n",
    "    sentences = opt.text.lower().split('.')\n",
    "    translated = []\n",
    "\n",
    "    for sentence in sentences:\n",
    "        for s in translate_sentence(sentence + '.', model, opt, SRC, TRG):\n",
    "            translated.append(s.capitalize())\n",
    "        #translated.append(translate_sentence(sentence + '.', model, opt, SRC, TRG).capitalize())\n",
    "\n",
    "    return translated\n",
    "    #return (' '.join(translated))\n"
   ]
  },
  {
   "cell_type": "code",
   "execution_count": 12,
   "metadata": {
    "collapsed": false
   },
   "outputs": [
    {
     "name": "stdout",
     "output_type": "stream",
     "text": [
      "<class 'torchtext.data.field.Field'>\n"
     ]
    }
   ],
   "source": [
    "print(type(SRC))"
   ]
  },
  {
   "cell_type": "code",
   "execution_count": 13,
   "metadata": {
    "collapsed": false
   },
   "outputs": [
    {
     "name": "stdout",
     "output_type": "stream",
     "text": [
      "<class 'torchtext.data.field.Field'>\n"
     ]
    }
   ],
   "source": [
    "print(type(TRG))"
   ]
  },
  {
   "cell_type": "code",
   "execution_count": 33,
   "metadata": {
    "collapsed": true
   },
   "outputs": [],
   "source": [
    " opt.text = \"architettura berlino trova documenti riguardano architettura berlino\""
   ]
  },
  {
   "cell_type": "code",
   "execution_count": 38,
   "metadata": {
    "collapsed": false
   },
   "outputs": [
    {
     "name": "stdout",
     "output_type": "stream",
     "text": [
      "indices of top k\n",
      "tensor([[4880, 1283, 1977],\n",
      "        [2345,  726,  589],\n",
      "        [4880, 2345, 1283]], device='cuda:0')\n",
      "indices of top k\n",
      "tensor([[1016,  726,  265],\n",
      "        [1016,  265,  726],\n",
      "        [ 726, 1501, 1016]], device='cuda:0')\n",
      "indices of top k\n",
      "tensor([[2345, 2450,  583],\n",
      "        [1016, 3833, 5471],\n",
      "        [1016, 3833, 5471]], device='cuda:0')\n",
      "indices of top k\n",
      "tensor([[4880, 1283, 4595],\n",
      "        [2345, 4880, 1283],\n",
      "        [2345, 4880, 1283]], device='cuda:0')\n",
      "indices of top k\n",
      "tensor([[   3,   97, 1204],\n",
      "        [4880, 1283, 7344],\n",
      "        [4880, 1283, 4595]], device='cuda:0')\n",
      "indices of top k\n",
      "tensor([[   3, 3294,   97],\n",
      "        [   3, 3294, 4880],\n",
      "        [   3, 4880, 1278]], device='cuda:0')\n",
      "indices of top k\n",
      "tensor([[   3, 4880, 1977],\n",
      "        [   3, 1977,  570],\n",
      "        [   3, 1977,  570]], device='cuda:0')\n",
      "indices of top k\n",
      "tensor([[   3, 4880, 1977],\n",
      "        [   3, 1977, 4880],\n",
      "        [   3, 1977,  570]], device='cuda:0')\n",
      "indices of top k\n",
      "tensor([[   3, 4880, 1977],\n",
      "        [   3, 1977, 4880],\n",
      "        [   3, 1977, 4880]], device='cuda:0')\n",
      "indices of top k\n",
      "tensor([[   3, 4880, 1977],\n",
      "        [   3, 1977, 4880],\n",
      "        [   3, 1977, 4880]], device='cuda:0')\n",
      "indices of top k\n",
      "tensor([[   3, 4880, 1283],\n",
      "        [   3, 1977, 1283],\n",
      "        [   3, 1977, 1283]], device='cuda:0')\n",
      "indices of top k\n",
      "tensor([[   3, 1283, 4880],\n",
      "        [   3, 1977, 1283],\n",
      "        [   3, 1977, 1283]], device='cuda:0')\n",
      "indices of top k\n",
      "tensor([[   3, 1977, 1283],\n",
      "        [   3, 4880, 1283],\n",
      "        [   3, 1977, 1283]], device='cuda:0')\n",
      "indices of top k\n",
      "tensor([[   3, 4880, 1977],\n",
      "        [   3, 4880, 1283],\n",
      "        [   3, 4880, 1283]], device='cuda:0')\n",
      "indices of top k\n",
      "tensor([[   3, 4880, 1283],\n",
      "        [   3, 4880, 1283],\n",
      "        [   3, 4880, 1283]], device='cuda:0')\n",
      "indices of top k\n",
      "tensor([[   3, 4880, 1283],\n",
      "        [   3, 4880, 1283],\n",
      "        [   3, 2345, 4880]], device='cuda:0')\n",
      "indices of top k\n",
      "tensor([[   3, 4880, 1283],\n",
      "        [   3, 2345, 4880],\n",
      "        [   3, 2345, 4880]], device='cuda:0')\n",
      "indices of top k\n",
      "tensor([[   3, 1283, 2345],\n",
      "        [   3, 2345, 1283],\n",
      "        [   3, 2345, 1283]], device='cuda:0')\n",
      "indices of top k\n",
      "tensor([[   3, 2345, 1283],\n",
      "        [   3, 2345, 1283],\n",
      "        [   3, 2345, 1283]], device='cuda:0')\n",
      "indices of top k\n",
      "tensor([[   3, 2345, 1283],\n",
      "        [   3, 2345, 1283],\n",
      "        [   3, 2345, 1283]], device='cuda:0')\n",
      "indices of top k\n",
      "tensor([[   3, 1283, 2345],\n",
      "        [   3, 2345, 1283],\n",
      "        [   3, 2345, 1283]], device='cuda:0')\n",
      "indices of top k\n",
      "tensor([[   3, 1283, 1977],\n",
      "        [   3, 1283, 2345],\n",
      "        [   3, 2345, 1283]], device='cuda:0')\n",
      "indices of top k\n",
      "tensor([[   3, 1977, 1283],\n",
      "        [   3, 1977, 1283],\n",
      "        [   3, 2345,    5]], device='cuda:0')\n",
      "indices of top k\n",
      "tensor([[   3, 1977, 1283],\n",
      "        [   3, 1977, 1283],\n",
      "        [   3, 2345, 1977]], device='cuda:0')\n",
      "indices of top k\n",
      "tensor([[   3, 1977, 1283],\n",
      "        [   3, 1977, 1283],\n",
      "        [   3, 2345, 1977]], device='cuda:0')\n",
      "indices of top k\n",
      "tensor([[   3, 1977, 1283],\n",
      "        [   3, 1977, 1283],\n",
      "        [   3, 2345,  125]], device='cuda:0')\n",
      "indices of top k\n",
      "tensor([[   3, 1977, 1283],\n",
      "        [   3, 1977, 1283],\n",
      "        [   3, 2345, 1977]], device='cuda:0')\n",
      "indices of top k\n",
      "tensor([[   3, 1283, 1977],\n",
      "        [   3, 2345, 1283],\n",
      "        [   3, 2345, 1283]], device='cuda:0')\n",
      "indices of top k\n",
      "tensor([[   3, 2345, 1283],\n",
      "        [   3, 2345, 1283],\n",
      "        [   3, 2345, 1283]], device='cuda:0')\n",
      "indices of top k\n",
      "tensor([[   3, 2345, 1283],\n",
      "        [   3, 2345, 1283],\n",
      "        [   3, 2345, 1283]], device='cuda:0')\n",
      "indices of top k\n",
      "tensor([[   3, 2345, 1283],\n",
      "        [   3, 2345, 1283],\n",
      "        [   3, 2345, 1283]], device='cuda:0')\n",
      "indices of top k\n",
      "tensor([[   3, 2345, 1283],\n",
      "        [   3, 4880, 1977],\n",
      "        [   3, 2345, 1283]], device='cuda:0')\n",
      "indices of top k\n",
      "tensor([[   3, 2345,  949],\n",
      "        [   3, 4880, 1283],\n",
      "        [   3, 4880, 1977]], device='cuda:0')\n",
      "indices of top k\n",
      "tensor([[   3, 2345,  949],\n",
      "        [   3, 4880, 1283],\n",
      "        [   3, 4880, 1977]], device='cuda:0')\n",
      "indices of top k\n",
      "tensor([[   3, 2345,  949],\n",
      "        [   3, 1283, 4880],\n",
      "        [   3, 1283, 4880]], device='cuda:0')\n",
      "indices of top k\n",
      "tensor([[   3, 2345,  949],\n",
      "        [   3, 1283, 1051],\n",
      "        [   3, 1283, 2345]], device='cuda:0')\n",
      "indices of top k\n",
      "tensor([[   3, 2345,  949],\n",
      "        [   3, 1283, 2345],\n",
      "        [   3, 2345, 1283]], device='cuda:0')\n",
      "indices of top k\n",
      "tensor([[   3, 2345,  949],\n",
      "        [   3, 2345, 1283],\n",
      "        [   3, 2345, 1283]], device='cuda:0')\n",
      "indices of top k\n",
      "tensor([[   3, 2345,  949],\n",
      "        [   3, 2345, 1051],\n",
      "        [   3, 2345, 1051]], device='cuda:0')\n",
      "indices of top k\n",
      "tensor([[   3, 2345,  949],\n",
      "        [   3, 2345,  949],\n",
      "        [   3, 2345,  949]], device='cuda:0')\n",
      "indices of top k\n",
      "tensor([[   3, 2345,  949],\n",
      "        [   3, 2345,  949],\n",
      "        [   3, 2345,  949]], device='cuda:0')\n",
      "indices of top k\n",
      "tensor([[   3, 2345,  949],\n",
      "        [   3, 2345,  949],\n",
      "        [   3, 2345,  949]], device='cuda:0')\n",
      "indices of top k\n",
      "tensor([[   3, 2345,  949],\n",
      "        [   3, 2345,  949],\n",
      "        [   3, 2345,  949]], device='cuda:0')\n",
      "indices of top k\n",
      "tensor([[   3, 2345, 1051],\n",
      "        [   3, 2345, 1051],\n",
      "        [   3, 2345,  949]], device='cuda:0')\n",
      "indices of top k\n",
      "tensor([[   3, 2345, 1051],\n",
      "        [   3, 2345, 1051],\n",
      "        [   3, 2345,  949]], device='cuda:0')\n",
      "indices of top k\n",
      "tensor([[   3, 2345, 1051],\n",
      "        [   3, 2345,  949],\n",
      "        [   3, 2345,  949]], device='cuda:0')\n",
      "indices of top k\n",
      "tensor([[   3, 2345,  949],\n",
      "        [   3, 2345,  949],\n",
      "        [   3, 2345,  949]], device='cuda:0')\n",
      "indices of top k\n",
      "tensor([[   3, 2345,  949],\n",
      "        [   3, 2345,  949],\n",
      "        [   3, 2345, 1328]], device='cuda:0')\n",
      "indices of top k\n",
      "tensor([[   3, 2345,  949],\n",
      "        [   3, 2345,  949],\n",
      "        [   3, 2345, 1328]], device='cuda:0')\n",
      "indices of top k\n",
      "tensor([[   3, 2345,  949],\n",
      "        [   3, 2345,  949],\n",
      "        [   3, 4880, 1977]], device='cuda:0')\n",
      "indices of top k\n",
      "tensor([[   3, 2345,  949],\n",
      "        [   3, 2345,  949],\n",
      "        [   3, 2345, 4880]], device='cuda:0')\n",
      "indices of top k\n",
      "tensor([[   3, 2345, 1051],\n",
      "        [   3, 2345, 1051],\n",
      "        [   3, 2345, 4880]], device='cuda:0')\n",
      "indices of top k\n",
      "tensor([[   3, 2345, 1051],\n",
      "        [   3, 2345, 1051],\n",
      "        [   3, 2345, 4880]], device='cuda:0')\n",
      "indices of top k\n",
      "tensor([[   3, 2345, 1051],\n",
      "        [   3, 2345, 3061],\n",
      "        [   3, 2345, 4880]], device='cuda:0')\n",
      "indices of top k\n",
      "tensor([[   3, 2345, 3061],\n",
      "        [   3, 2345, 3061],\n",
      "        [   3, 2345, 4880]], device='cuda:0')\n",
      "indices of top k\n",
      "tensor([[   3, 2345, 3061],\n",
      "        [   3, 2345, 3061],\n",
      "        [   3, 2345, 1051]], device='cuda:0')\n",
      "indices of top k\n",
      "tensor([[   3, 2345, 3061],\n",
      "        [   3, 2345, 1051],\n",
      "        [   3, 2345, 3061]], device='cuda:0')\n",
      "indices of top k\n",
      "tensor([[   3, 2345, 3061],\n",
      "        [   3, 2345, 4880],\n",
      "        [   3, 2345, 3061]], device='cuda:0')\n",
      "indices of top k\n",
      "tensor([[   3, 2345, 4880],\n",
      "        [   3, 2345, 1051],\n",
      "        [   3, 2345, 1051]], device='cuda:0')\n",
      "indices of top k\n",
      "tensor([[   3, 2345, 4880],\n",
      "        [   3, 2345, 1051],\n",
      "        [   3, 2345, 1051]], device='cuda:0')\n",
      "indices of top k\n",
      "tensor([[   3, 2345, 4880],\n",
      "        [   3, 2345, 1051],\n",
      "        [   3, 2345, 1051]], device='cuda:0')\n",
      "indices of top k\n",
      "tensor([[   3, 2345, 1051],\n",
      "        [   3, 2345, 1051],\n",
      "        [   3, 2345, 1051]], device='cuda:0')\n",
      "indices of top k\n",
      "tensor([[   3, 2345, 1283],\n",
      "        [   3, 2345, 1283],\n",
      "        [   3, 2345, 1283]], device='cuda:0')\n",
      "indices of top k\n",
      "tensor([[   3, 2345, 1283],\n",
      "        [   3, 2345, 1283],\n",
      "        [   3, 2345, 1283]], device='cuda:0')\n",
      "indices of top k\n",
      "tensor([[   3, 2345, 1283],\n",
      "        [   3, 2345, 3061],\n",
      "        [   3, 2345, 3061]], device='cuda:0')\n",
      "indices of top k\n",
      "tensor([[   3, 2345, 4880],\n",
      "        [   3, 2345, 3061],\n",
      "        [   3, 2345, 3061]], device='cuda:0')\n",
      "indices of top k\n",
      "tensor([[   3, 2345, 4880],\n",
      "        [   3, 2345, 1283],\n",
      "        [   3, 2345, 1283]], device='cuda:0')\n",
      "indices of top k\n",
      "tensor([[   3, 4880, 2345],\n",
      "        [   3, 2345, 1283],\n",
      "        [   3, 2345, 1283]], device='cuda:0')\n",
      "indices of top k\n",
      "tensor([[   3, 4880, 2345],\n",
      "        [   3, 2345, 1283],\n",
      "        [   3, 2345, 1283]], device='cuda:0')\n",
      "indices of top k\n",
      "tensor([[   3, 2345, 4880],\n",
      "        [   3, 2345, 1283],\n",
      "        [   3, 2345, 1283]], device='cuda:0')\n",
      "indices of top k\n",
      "tensor([[   3, 2345, 4880],\n",
      "        [   3, 2345, 1283],\n",
      "        [   3, 2345, 1283]], device='cuda:0')\n",
      "indices of top k\n",
      "tensor([[   3, 2345, 4880],\n",
      "        [   3, 2345, 1283],\n",
      "        [   3, 2345, 1283]], device='cuda:0')\n",
      "indices of top k\n",
      "tensor([[   3, 2345, 4880],\n",
      "        [   3, 2345, 1283],\n",
      "        [   3, 2345, 1283]], device='cuda:0')\n",
      "indices of top k\n",
      "tensor([[   3, 2345, 1283],\n",
      "        [   3, 2345, 1283],\n",
      "        [   3, 2345, 1283]], device='cuda:0')\n",
      "indices of top k\n",
      "tensor([[   3, 2345, 1283],\n",
      "        [   3, 2345, 1283],\n",
      "        [   3, 2345, 1283]], device='cuda:0')\n",
      "indices of top k\n",
      "tensor([[   3, 2345, 1283],\n",
      "        [   3, 2345, 1283],\n",
      "        [   3, 2345, 1283]], device='cuda:0')\n",
      "indices of top k\n",
      "tensor([[   3, 2345, 4880],\n",
      "        [   3, 2345, 1283],\n",
      "        [   3, 2345, 1283]], device='cuda:0')\n",
      "indices of top k\n",
      "tensor([[   3, 2345, 4880],\n",
      "        [   3, 2345, 1283],\n",
      "        [   3, 2345, 1283]], device='cuda:0')\n",
      "value of k is 3\n"
     ]
    }
   ],
   "source": [
    "phrase = translate(opt, model, SRC, TRG)"
   ]
  },
  {
   "cell_type": "code",
   "execution_count": 39,
   "metadata": {
    "collapsed": false
   },
   "outputs": [
    {
     "name": "stdout",
     "output_type": "stream",
     "text": [
      "architecture\n",
      "structure\n",
      "version\n"
     ]
    }
   ],
   "source": [
    "print(TRG.vocab.itos[4880])\n",
    "print(TRG.vocab.itos[1283])\n",
    "print(TRG.vocab.itos[1977])"
   ]
  },
  {
   "cell_type": "code",
   "execution_count": 37,
   "metadata": {
    "collapsed": false
   },
   "outputs": [
    {
     "name": "stdout",
     "output_type": "stream",
     "text": [
      "['Berlin architecture documents relate berlin architecture <eos> <eos> <eos> <eos> <eos> <eos> <eos> <eos> <eos> <eos> <eos> <eos> <eos> <eos> <eos> <eos> <eos> <eos> <eos> <eos> <eos> <eos> <eos> <eos> <eos> <eos> <eos> berlin <eos> <eos> <eos> <eos> <eos> <eos> <eos> <eos> <eos> <eos> <eos> <eos> <eos> <eos> <eos> berlin <eos> <eos> <eos> <eos> <eos> <eos> <eos> <eos> <eos> <eos> <eos> <eos> <eos> <eos> <eos> <eos> <eos> <eos> <eos> <eos> <eos> <eos> <eos> <eos> <eos> <eos> <eos> <eos> <eos>', 'Berlin architecture documents relate berlin architecture <eos> <eos> <eos> <eos> <eos> <eos> <eos> <eos> <eos> <eos> <eos> <eos> <eos> <eos> <eos> <eos> <eos> <eos> <eos> <eos> <eos> <eos> <eos> <eos> <eos> <eos> <eos> berlin <eos> <eos> <eos> <eos> <eos> <eos> <eos> <eos> <eos> <eos> <eos> <eos> <eos> <eos> <eos> <eos> <eos> <eos> <eos> <eos> <eos> <eos> <eos> <eos> <eos> <eos> <eos> <eos> <eos> <eos> <eos> <eos> <eos> <eos> <eos> <eos> <eos> <eos> <eos> <eos> <eos> <eos> <eos> <eos> <eos>', 'Berlin architecture documents relate berlin architecture <eos> <eos> <eos> <eos> <eos> <eos> <eos> <eos> <eos> <eos> <eos> <eos> <eos> <eos> <eos> <eos> <eos> <eos> <eos> <eos> <eos> <eos> <eos> <eos> <eos> <eos> berlin <eos> <eos> <eos> <eos> <eos> <eos> <eos> <eos> <eos> <eos> <eos> <eos> <eos> <eos> <eos> <eos> <eos> <eos> <eos> <eos> <eos> <eos> <eos> <eos> <eos> <eos> <eos> <eos> <eos> <eos> <eos> <eos> <eos> <eos> <eos> <eos> <eos> <eos> <eos> <eos> <eos> <eos> <eos> <eos> <eos> <eos>']\n"
     ]
    }
   ],
   "source": [
    "print(phrase)"
   ]
  },
  {
   "cell_type": "code",
   "execution_count": null,
   "metadata": {
    "collapsed": true
   },
   "outputs": [],
   "source": []
  }
 ],
 "metadata": {
  "kernelspec": {
   "display_name": "Python 3",
   "language": "python",
   "name": "python3"
  },
  "language_info": {
   "codemirror_mode": {
    "name": "ipython",
    "version": 3
   },
   "file_extension": ".py",
   "mimetype": "text/x-python",
   "name": "python",
   "nbconvert_exporter": "python",
   "pygments_lexer": "ipython3",
   "version": "3.6.0"
  }
 },
 "nbformat": 4,
 "nbformat_minor": 2
}
